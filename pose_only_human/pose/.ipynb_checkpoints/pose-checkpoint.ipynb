{
 "cells": [
  {
   "cell_type": "code",
   "execution_count": null,
   "metadata": {},
   "outputs": [],
   "source": []
  },
  {
   "cell_type": "code",
   "execution_count": 2,
   "metadata": {},
   "outputs": [
    {
     "name": "stderr",
     "output_type": "stream",
     "text": [
      "\"wget\" non è riconosciuto come comando interno o esterno,\n",
      " un programma eseguibile o un file batch.\n"
     ]
    }
   ],
   "source": [
    "!wget https://download.01.org/opencv/openvino_training_extensions/models/human_pose_estimation/checkpoint_iter_370000.pth"
   ]
  },
  {
   "cell_type": "code",
   "execution_count": 1,
   "metadata": {},
   "outputs": [
    {
     "name": "stderr",
     "output_type": "stream",
     "text": [
      "Traceback (most recent call last):\n",
      "  File \"lightweight-human-pose-estimation.pytorch-master/demo.py\", line 168, in <module>\n",
      "    checkpoint = torch.load(args.checkpoint_path, map_location='cpu')\n",
      "  File \"C:\\Users\\Utente\\Anaconda3\\lib\\site-packages\\torch\\serialization.py\", line 366, in load\n",
      "    f = open(f, 'rb')\n",
      "FileNotFoundError: [Errno 2] No such file or directory: 'checkpoint_iter_370000.pth'\n"
     ]
    }
   ],
   "source": [
    "!python lightweight-human-pose-estimation.pytorch-master/demo.py --checkpoint-path checkpoint_iter_370000.pth --image p.jpg --cpu"
   ]
  },
  {
   "cell_type": "code",
   "execution_count": 1,
   "metadata": {},
   "outputs": [],
   "source": [
    "!python lightweight-human-pose-estimation.pytorch-master/scripts/prepare_train_labels.py --labels annotations/fen-10.json"
   ]
  },
  {
   "cell_type": "code",
   "execution_count": 2,
   "metadata": {},
   "outputs": [
    {
     "name": "stderr",
     "output_type": "stream",
     "text": [
      "Traceback (most recent call last):\n",
      "  File \"lightweight-human-pose-estimation.pytorch-master/train.py\", line 11, in <module>\n",
      "    from datasets.coco import CocoTrainDataset\n",
      "  File \"C:\\Users\\Utente\\Desktop\\pose\\lightweight-human-pose-estimation.pytorch-master\\datasets\\coco.py\", line 9, in <module>\n",
      "    import pycocotools\n",
      "ModuleNotFoundError: No module named 'pycocotools'\n"
     ]
    }
   ],
   "source": [
    "!python lightweight-human-pose-estimation.pytorch-master/train.py --train-images-folder trainimages/ --prepared-train-labels prepared_train_annotation.pkl --val-labels annotations/fen-10.json --val-images-folder trainimages/ --checkpoint-path mobilenet_sgd_68.848.pth.tar --from-mobilenet\n"
   ]
  },
  {
   "cell_type": "code",
   "execution_count": null,
   "metadata": {},
   "outputs": [],
   "source": [
    "!pip install git+https://github.com/philferriere/cocoapi.git#egg=pycocotools^&subdirectory=PythonAPI"
   ]
  },
  {
   "cell_type": "code",
   "execution_count": 3,
   "metadata": {},
   "outputs": [
    {
     "ename": "ModuleNotFoundError",
     "evalue": "No module named 'pycocotools'",
     "output_type": "error",
     "traceback": [
      "\u001b[1;31m---------------------------------------------------------------------------\u001b[0m",
      "\u001b[1;31mModuleNotFoundError\u001b[0m                       Traceback (most recent call last)",
      "\u001b[1;32m<ipython-input-3-8df162388a6e>\u001b[0m in \u001b[0;36m<module>\u001b[1;34m\u001b[0m\n\u001b[1;32m----> 1\u001b[1;33m \u001b[1;32mimport\u001b[0m \u001b[0mpycocotools\u001b[0m\u001b[1;33m\u001b[0m\u001b[1;33m\u001b[0m\u001b[0m\n\u001b[0m",
      "\u001b[1;31mModuleNotFoundError\u001b[0m: No module named 'pycocotools'"
     ]
    }
   ],
   "source": [
    "import pycocotools"
   ]
  },
  {
   "cell_type": "code",
   "execution_count": null,
   "metadata": {},
   "outputs": [],
   "source": []
  }
 ],
 "metadata": {
  "kernelspec": {
   "display_name": "Python 3",
   "language": "python",
   "name": "python3"
  },
  "language_info": {
   "codemirror_mode": {
    "name": "ipython",
    "version": 3
   },
   "file_extension": ".py",
   "mimetype": "text/x-python",
   "name": "python",
   "nbconvert_exporter": "python",
   "pygments_lexer": "ipython3",
   "version": "3.7.2"
  }
 },
 "nbformat": 4,
 "nbformat_minor": 2
}
